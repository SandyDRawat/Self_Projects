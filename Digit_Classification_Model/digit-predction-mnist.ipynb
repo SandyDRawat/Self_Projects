{
 "cells": [
  {
   "cell_type": "code",
   "execution_count": 1,
   "id": "ff5253a5",
   "metadata": {
    "_cell_guid": "b1076dfc-b9ad-4769-8c92-a6c4dae69d19",
    "_uuid": "8f2839f25d086af736a60e9eeb907d3b93b6e0e5",
    "execution": {
     "iopub.execute_input": "2024-05-29T05:17:05.765619Z",
     "iopub.status.busy": "2024-05-29T05:17:05.765144Z",
     "iopub.status.idle": "2024-05-29T05:17:06.771052Z",
     "shell.execute_reply": "2024-05-29T05:17:06.769661Z"
    },
    "papermill": {
     "duration": 1.016382,
     "end_time": "2024-05-29T05:17:06.774260",
     "exception": false,
     "start_time": "2024-05-29T05:17:05.757878",
     "status": "completed"
    },
    "tags": []
   },
   "outputs": [],
   "source": [
    "import numpy as np\n",
    "import pandas as pd\n",
    "from matplotlib import pyplot as plt"
   ]
  },
  {
   "cell_type": "code",
   "execution_count": 2,
   "id": "98f76be0",
   "metadata": {
    "_cell_guid": "b1076dfc-b9ad-4769-8c92-a6c4dae69d19",
    "_uuid": "8f2839f25d086af736a60e9eeb907d3b93b6e0e5",
    "execution": {
     "iopub.execute_input": "2024-05-29T05:17:06.786515Z",
     "iopub.status.busy": "2024-05-29T05:17:06.785963Z",
     "iopub.status.idle": "2024-05-29T05:17:10.910313Z",
     "shell.execute_reply": "2024-05-29T05:17:10.909039Z"
    },
    "papermill": {
     "duration": 4.133584,
     "end_time": "2024-05-29T05:17:10.913248",
     "exception": false,
     "start_time": "2024-05-29T05:17:06.779664",
     "status": "completed"
    },
    "tags": []
   },
   "outputs": [],
   "source": [
    "# link to the dataset https://www.kaggle.com/competitions/digit-recognizer/data \n"
    "data = pd.read_csv('/kaggle/input/digit-recognizer/train.csv')"
   ]
  },
  {
   "cell_type": "code",
   "execution_count": 3,
   "id": "6a1888f5",
   "metadata": {
    "execution": {
     "iopub.execute_input": "2024-05-29T05:17:10.927712Z",
     "iopub.status.busy": "2024-05-29T05:17:10.926921Z",
     "iopub.status.idle": "2024-05-29T05:17:10.932584Z",
     "shell.execute_reply": "2024-05-29T05:17:10.931172Z"
    },
    "papermill": {
     "duration": 0.016045,
     "end_time": "2024-05-29T05:17:10.935402",
     "exception": false,
     "start_time": "2024-05-29T05:17:10.919357",
     "status": "completed"
    },
    "tags": []
   },
   "outputs": [],
   "source": [
    "m, n = data.shape\n",
    "#data.head()"
   ]
  },
  {
   "cell_type": "code",
   "execution_count": 4,
   "id": "f2f57462",
   "metadata": {
    "execution": {
     "iopub.execute_input": "2024-05-29T05:17:10.947387Z",
     "iopub.status.busy": "2024-05-29T05:17:10.946827Z",
     "iopub.status.idle": "2024-05-29T05:17:11.780187Z",
     "shell.execute_reply": "2024-05-29T05:17:11.778799Z"
    },
    "papermill": {
     "duration": 0.842594,
     "end_time": "2024-05-29T05:17:11.783060",
     "exception": false,
     "start_time": "2024-05-29T05:17:10.940466",
     "status": "completed"
    },
    "tags": []
   },
   "outputs": [],
   "source": [
    "data = np.array(data)\n",
    "np.random.shuffle(data)\n",
    "\n",
    "testing_data = data[:4200].T\n",
    "x_test = testing_data[1:]\n",
    "y_test = testing_data[0]\n",
    "x_test = x_test / 255\n",
    "\n",
    "training_data = data[4200:].T\n",
    "x_train = training_data[1:]\n",
    "y_train = training_data[0]\n",
    "x_train = x_train / 255"
   ]
  },
  {
   "cell_type": "code",
   "execution_count": 5,
   "id": "333fbb1f",
   "metadata": {
    "execution": {
     "iopub.execute_input": "2024-05-29T05:17:11.795006Z",
     "iopub.status.busy": "2024-05-29T05:17:11.794577Z",
     "iopub.status.idle": "2024-05-29T05:17:11.810276Z",
     "shell.execute_reply": "2024-05-29T05:17:11.808869Z"
    },
    "papermill": {
     "duration": 0.024925,
     "end_time": "2024-05-29T05:17:11.813111",
     "exception": false,
     "start_time": "2024-05-29T05:17:11.788186",
     "status": "completed"
    },
    "tags": []
   },
   "outputs": [],
   "source": [
    "def parameters():\n",
    "    W1 = np.random.rand(10, 784) -0.5\n",
    "    b1 = np.random.rand(10, 1) -0.5\n",
    "    W2 = np.random.rand(10, 10)-0.5\n",
    "    b2 = np.random.rand(10, 1)-0.5\n",
    "    return W1, b1, W2, b2\n",
    "\n",
    "def ReLU(Z):\n",
    "    return np.maximum(Z, 0)\n",
    "\n",
    "def softmax(Z):\n",
    "    A = np.exp(Z) / sum(np.exp(Z))\n",
    "    return A\n",
    "\n",
    "def one_hot(Y):\n",
    "    one_hot_Y = np.zeros((Y.size, Y.max() + 1))\n",
    "    one_hot_Y[np.arange(Y.size), Y] = 1\n",
    "    one_hot_Y = one_hot_Y.T\n",
    "    return one_hot_Y\n",
    "\n",
    "def ReLU_deriv(Z):\n",
    "    return Z > 0\n",
    "\n",
    "def for_prop(W1, b1, W2, b2, X):\n",
    "    Z1 = W1.dot(X) + b1\n",
    "    A1 = ReLU(Z1)\n",
    "    Z2 = W2.dot(A1) + b2\n",
    "    A2 = softmax(Z2)\n",
    "    return Z1, A1, Z2, A2\n",
    "\n",
    "def backward_prop(Z1, A1, Z2, A2, W1, W2, X, Y):\n",
    "    one_hot_Y = one_hot(Y)\n",
    "    dZ2 = A2 - one_hot_Y\n",
    "    dW2 = 1 / m * dZ2.dot(A1.T)\n",
    "    db2 = 1 / m * np.sum(dZ2)\n",
    "    dZ1 = W2.T.dot(dZ2) * ReLU_deriv(Z1)\n",
    "    dW1 = 1 / m * dZ1.dot(X.T)\n",
    "    db1 = 1 / m * np.sum(dZ1)\n",
    "    return dW1, db1, dW2, db2\n",
    "\n",
    "def update_params(W1, b1, W2, b2, dW1, db1, dW2, db2, alpha):\n",
    "    W1 = W1 - alpha * dW1\n",
    "    b1 = b1 - alpha * db1    \n",
    "    W2 = W2 - alpha * dW2  \n",
    "    b2 = b2 - alpha * db2    \n",
    "    return W1, b1, W2, b2\n"
   ]
  },
  {
   "cell_type": "code",
   "execution_count": 6,
   "id": "7e7d5171",
   "metadata": {
    "execution": {
     "iopub.execute_input": "2024-05-29T05:17:11.824838Z",
     "iopub.status.busy": "2024-05-29T05:17:11.824473Z",
     "iopub.status.idle": "2024-05-29T05:17:11.833864Z",
     "shell.execute_reply": "2024-05-29T05:17:11.832907Z"
    },
    "papermill": {
     "duration": 0.018293,
     "end_time": "2024-05-29T05:17:11.836510",
     "exception": false,
     "start_time": "2024-05-29T05:17:11.818217",
     "status": "completed"
    },
    "tags": []
   },
   "outputs": [],
   "source": [
    "def get_predictions(A2):\n",
    "    return np.argmax(A2, 0)\n",
    "\n",
    "def get_accuracy(predictions, Y):\n",
    "    print(predictions, Y)\n",
    "    return np.sum(predictions == Y) / Y.size\n",
    "\n",
    "def gradient_descent(X, Y, alpha, iterations):\n",
    "    W1, b1, W2, b2 = parameters()\n",
    "    for i in range(iterations):\n",
    "        Z1, A1, Z2, A2 = for_prop(W1, b1, W2, b2, X)\n",
    "        dW1, db1, dW2, db2 = backward_prop(Z1, A1, Z2, A2, W1, W2, X, Y)\n",
    "        W1, b1, W2, b2 = update_params(W1, b1, W2, b2, dW1, db1, dW2, db2, alpha)\n",
    "        if i % 10 == 0:\n",
    "            #print(\"Iteration: \", i)\n",
    "            predictions = get_predictions(A2)\n",
    "            #print(get_accuracy(predictions, Y))\n",
    "    return W1, b1, W2, b2"
   ]
  },
  {
   "cell_type": "code",
   "execution_count": 7,
   "id": "1bc0b363",
   "metadata": {
    "execution": {
     "iopub.execute_input": "2024-05-29T05:17:11.848178Z",
     "iopub.status.busy": "2024-05-29T05:17:11.847759Z",
     "iopub.status.idle": "2024-05-29T05:19:06.790443Z",
     "shell.execute_reply": "2024-05-29T05:19:06.788776Z"
    },
    "papermill": {
     "duration": 114.953765,
     "end_time": "2024-05-29T05:19:06.795164",
     "exception": false,
     "start_time": "2024-05-29T05:17:11.841399",
     "status": "completed"
    },
    "tags": []
   },
   "outputs": [],
   "source": [
    "W1, b1, W2, b2 = gradient_descent(x_train, y_train, 0.10, 1000)"
   ]
  },
  {
   "cell_type": "code",
   "execution_count": 8,
   "id": "859d1906",
   "metadata": {
    "execution": {
     "iopub.execute_input": "2024-05-29T05:19:06.818446Z",
     "iopub.status.busy": "2024-05-29T05:19:06.817702Z",
     "iopub.status.idle": "2024-05-29T05:19:06.831199Z",
     "shell.execute_reply": "2024-05-29T05:19:06.829593Z"
    },
    "papermill": {
     "duration": 0.03086,
     "end_time": "2024-05-29T05:19:06.836623",
     "exception": false,
     "start_time": "2024-05-29T05:19:06.805763",
     "status": "completed"
    },
    "tags": []
   },
   "outputs": [],
   "source": [
    "def make_predictions(X, W1, b1, W2, b2):\n",
    "    _, _, _, A2 = for_prop(W1, b1, W2, b2, X)\n",
    "    predictions = get_predictions(A2)\n",
    "    return predictions\n",
    "\n",
    "def test_prediction(index, W1, b1, W2, b2):\n",
    "    current_image = x_train[:, index, None]\n",
    "    prediction = make_predictions(x_train[:, index, None], W1, b1, W2, b2)\n",
    "    label = y_train[index]\n",
    "    print(\"Prediction: \", prediction)\n",
    "    print(\"Label: \", label)\n",
    "    \n",
    "    #current_image = current_image.reshape((28, 28)) * 255\n",
    "   # plt.gray()\n",
    "   # plt.imshow(current_image, interpolation='nearest')\n",
    "   # plt.show()"
   ]
  },
  {
   "cell_type": "code",
   "execution_count": 9,
   "id": "f187031c",
   "metadata": {
    "execution": {
     "iopub.execute_input": "2024-05-29T05:19:06.859939Z",
     "iopub.status.busy": "2024-05-29T05:19:06.859316Z",
     "iopub.status.idle": "2024-05-29T05:19:06.871467Z",
     "shell.execute_reply": "2024-05-29T05:19:06.870344Z"
    },
    "papermill": {
     "duration": 0.029561,
     "end_time": "2024-05-29T05:19:06.877112",
     "exception": false,
     "start_time": "2024-05-29T05:19:06.847551",
     "status": "completed"
    },
    "tags": []
   },
   "outputs": [
    {
     "name": "stdout",
     "output_type": "stream",
     "text": [
      "Prediction:  [4]\n",
      "Label:  4\n",
      "Prediction:  [7]\n",
      "Label:  7\n",
      "Prediction:  [3]\n",
      "Label:  3\n",
      "Prediction:  [8]\n",
      "Label:  0\n"
     ]
    }
   ],
   "source": [
    "test_prediction(0, W1, b1, W2, b2)\n",
    "test_prediction(1, W1, b1, W2, b2)\n",
    "test_prediction(2, W1, b1, W2, b2)\n",
    "test_prediction(3, W1, b1, W2, b2)"
   ]
  },
  {
   "cell_type": "code",
   "execution_count": 10,
   "id": "24ee8e82",
   "metadata": {
    "execution": {
     "iopub.execute_input": "2024-05-29T05:19:06.900139Z",
     "iopub.status.busy": "2024-05-29T05:19:06.899496Z",
     "iopub.status.idle": "2024-05-29T05:19:06.928633Z",
     "shell.execute_reply": "2024-05-29T05:19:06.927529Z"
    },
    "papermill": {
     "duration": 0.04569,
     "end_time": "2024-05-29T05:19:06.933045",
     "exception": false,
     "start_time": "2024-05-29T05:19:06.887355",
     "status": "completed"
    },
    "tags": []
   },
   "outputs": [
    {
     "name": "stdout",
     "output_type": "stream",
     "text": [
      "[1 7 7 ... 3 0 3] [1 7 7 ... 3 0 3]\n"
     ]
    },
    {
     "data": {
      "text/plain": [
       "0.8597619047619047"
      ]
     },
     "execution_count": 10,
     "metadata": {},
     "output_type": "execute_result"
    }
   ],
   "source": [
    "dev_predictions = make_predictions(x_test, W1, b1, W2, b2)\n",
    "get_accuracy(dev_predictions, y_test)"
   ]
  },
  {
   "cell_type": "code",
   "execution_count": null,
   "id": "8ec5499e",
   "metadata": {
    "papermill": {
     "duration": 0.0102,
     "end_time": "2024-05-29T05:19:06.953935",
     "exception": false,
     "start_time": "2024-05-29T05:19:06.943735",
     "status": "completed"
    },
    "tags": []
   },
   "outputs": [],
   "source": []
  },
  {
   "cell_type": "code",
   "execution_count": null,
   "id": "32a631a5",
   "metadata": {
    "papermill": {
     "duration": 0.010128,
     "end_time": "2024-05-29T05:19:06.974915",
     "exception": false,
     "start_time": "2024-05-29T05:19:06.964787",
     "status": "completed"
    },
    "tags": []
   },
   "outputs": [],
   "source": []
  }
 ],
 "metadata": {
  "kaggle": {
   "accelerator": "none",
   "dataSources": [
    {
     "databundleVersionId": 861823,
     "sourceId": 3004,
     "sourceType": "competition"
    }
   ],
   "dockerImageVersionId": 30698,
   "isGpuEnabled": false,
   "isInternetEnabled": false,
   "language": "python",
   "sourceType": "notebook"
  },
  "kernelspec": {
   "display_name": "Python 3",
   "language": "python",
   "name": "python3"
  },
  "language_info": {
   "codemirror_mode": {
    "name": "ipython",
    "version": 3
   },
   "file_extension": ".py",
   "mimetype": "text/x-python",
   "name": "python",
   "nbconvert_exporter": "python",
   "pygments_lexer": "ipython3",
   "version": "3.10.13"
  },
  "papermill": {
   "default_parameters": {},
   "duration": 125.023807,
   "end_time": "2024-05-29T05:19:07.517107",
   "environment_variables": {},
   "exception": null,
   "input_path": "__notebook__.ipynb",
   "output_path": "__notebook__.ipynb",
   "parameters": {},
   "start_time": "2024-05-29T05:17:02.493300",
   "version": "2.5.0"
  }
 },
 "nbformat": 4,
 "nbformat_minor": 5
}
